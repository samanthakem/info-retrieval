{
 "cells": [
  {
   "cell_type": "markdown",
   "metadata": {},
   "source": [
    "## Lab 02 - Parte 1 - Expansão de Consultas"
   ]
  },
  {
   "cell_type": "markdown",
   "metadata": {},
   "source": [
    "Nesta atividade você vai exercitar a noção de expansão de consultas. Considerando a coleção de notícias do lab passado, você primeiro precisa executar os seguintes passos:\n",
    "\n",
    "1. Escreva uma função que receba uma coleção de documentos e retorne uma matrix de termos-termos contendo as frequências de co-ocorrência de duas palavras consecutivas no texto (bigramas).\n",
    "2. Escreva uma função que receba um certo termo de consulta e a matriz construída no passo 1 acima e retorneas top-3 palavras em ordem decrescente de frequencia.\n",
    "3. Expanda a consulta original com os termos retornados no passo 2 acima.\n",
    "4. Faça uma busca disjuntiva (OR) considerando a nova consulta.\n",
    "\n",
    "Por exemplo, se o termo de consulta é petrobrás e as palavras que mais co-ocorrem com petrobrás são: empresa, gasolina e estatal, a consulta agora ficaria: petrobrás OR empresa OR gasolina OR estatal.\n",
    "\n",
    "Escolha livremente três termos de consulta e responda o seguinte:\n",
    "\n",
    "- Quais os termos retornados para a expansão de cada consulta?\n",
    "- Você acha que esses termos são de fato relacionados com a consulta original? Justifique.\n",
    "- Compare os documentos retornados para a consulta original com a consulta expandida. Quais resultados você acha que melhor capturam a necessidade de informação do usuário? Por que?\n",
    "- A expansão de consultas é mais adequada para melhorar o recall ou o precision? Por que?"
   ]
  },
  {
   "cell_type": "markdown",
   "metadata": {},
   "source": [
    "### Solução"
   ]
  },
  {
   "cell_type": "markdown",
   "metadata": {},
   "source": [
    "#### Importando bibliotecas"
   ]
  },
  {
   "cell_type": "code",
   "execution_count": 69,
   "metadata": {},
   "outputs": [],
   "source": [
    "import pandas as pd\n",
    "import numpy as np\n",
    "import collections\n",
    "from nltk.tokenize import word_tokenize"
   ]
  },
  {
   "cell_type": "markdown",
   "metadata": {},
   "source": [
    "#### Constantes"
   ]
  },
  {
   "cell_type": "code",
   "execution_count": 70,
   "metadata": {},
   "outputs": [],
   "source": [
    "FILE_PATH = 'data/estadao_noticias_eleicao.csv'\n",
    "ROWS_NUMBER = 10\n",
    "NOTICIA_COL = \"noticia\"\n",
    "CONTEUDO_COL = \"conteudo\"\n",
    "TITULO_COL = \"titulo\"\n",
    "SUBTITULO_COL = \"subTitulo\"\n",
    "VALOR_AXIS = 1\n",
    "ID_NOTICIA_COL = \"idNoticia\"\n",
    "TOKENS_COL = \"tokens\""
   ]
  },
  {
   "cell_type": "markdown",
   "metadata": {},
   "source": [
    "#### Funções"
   ]
  },
  {
   "cell_type": "code",
   "execution_count": 71,
   "metadata": {},
   "outputs": [],
   "source": [
    "def concatena_dados(row):\n",
    "    return (row[TITULO_COL] + \" \" + row[SUBTITULO_COL] + \" \" + row[CONTEUDO_COL]).lower()\n",
    "\n",
    "def tokeniza(conteudo):\n",
    "    stop_words = set(stopwords.words('portuguese'))\n",
    "    return set([w for w in word_tokenize(conteudo) if not w in stop_words])"
   ]
  },
  {
   "cell_type": "markdown",
   "metadata": {},
   "source": [
    "#### Importando dados"
   ]
  },
  {
   "cell_type": "code",
   "execution_count": 72,
   "metadata": {},
   "outputs": [],
   "source": [
    "df = pd.read_csv(FILE_PATH, encoding = 'utf-8')\n",
    "df = df.replace(np.NAN, \"\")"
   ]
  },
  {
   "cell_type": "code",
   "execution_count": 73,
   "metadata": {},
   "outputs": [
    {
     "data": {
      "text/html": [
       "<div>\n",
       "<style scoped>\n",
       "    .dataframe tbody tr th:only-of-type {\n",
       "        vertical-align: middle;\n",
       "    }\n",
       "\n",
       "    .dataframe tbody tr th {\n",
       "        vertical-align: top;\n",
       "    }\n",
       "\n",
       "    .dataframe thead th {\n",
       "        text-align: right;\n",
       "    }\n",
       "</style>\n",
       "<table border=\"1\" class=\"dataframe\">\n",
       "  <thead>\n",
       "    <tr style=\"text-align: right;\">\n",
       "      <th></th>\n",
       "      <th>timestamp</th>\n",
       "      <th>titulo</th>\n",
       "      <th>subTitulo</th>\n",
       "      <th>conteudo</th>\n",
       "      <th>url</th>\n",
       "      <th>idNoticia</th>\n",
       "    </tr>\n",
       "  </thead>\n",
       "  <tbody>\n",
       "    <tr>\n",
       "      <th>0</th>\n",
       "      <td>2014-12-31T00:00:00Z</td>\n",
       "      <td>PT espera 30 mil pessoas em festa na Esplanada</td>\n",
       "      <td>Objetivo é demonstrar apoio popular a Dilma e ...</td>\n",
       "      <td>BRASÍLIA - Após o desgaste provocado com o lan...</td>\n",
       "      <td>http://politica.estadao.com.br/noticias/geral,...</td>\n",
       "      <td>1</td>\n",
       "    </tr>\n",
       "    <tr>\n",
       "      <th>1</th>\n",
       "      <td>2014-12-31T00:00:00Z</td>\n",
       "      <td>Alckmin toma posse de olho no Planalto</td>\n",
       "      <td>Governador reeleito tenta amarrar tucanos paul...</td>\n",
       "      <td>Reeleito em outubro, o governador tucano Geral...</td>\n",
       "      <td>http://politica.estadao.com.br/noticias/geral,...</td>\n",
       "      <td>2</td>\n",
       "    </tr>\n",
       "    <tr>\n",
       "      <th>2</th>\n",
       "      <td>2014-12-31T00:00:00Z</td>\n",
       "      <td>Seis obstáculos e desafios do segundo mandato ...</td>\n",
       "      <td>Em meio a escândalo de corrupção, presidente t...</td>\n",
       "      <td>1. Rearranjo das contas A nova equipe econôm...</td>\n",
       "      <td>http://politica.estadao.com.br/noticias/geral,...</td>\n",
       "      <td>3</td>\n",
       "    </tr>\n",
       "    <tr>\n",
       "      <th>3</th>\n",
       "      <td>2014-12-31T00:00:00Z</td>\n",
       "      <td></td>\n",
       "      <td>Veja as principais fotos do dia e dos eventos ...</td>\n",
       "      <td></td>\n",
       "      <td>http://fotos.estadao.com.br/fotos/politica,dil...</td>\n",
       "      <td>4</td>\n",
       "    </tr>\n",
       "    <tr>\n",
       "      <th>4</th>\n",
       "      <td>2014-12-31T00:00:00Z</td>\n",
       "      <td></td>\n",
       "      <td>Veja as principais fotos do dia e dos eventos ...</td>\n",
       "      <td></td>\n",
       "      <td>http://fotos.estadao.com.br/fotos/politica,dil...</td>\n",
       "      <td>5</td>\n",
       "    </tr>\n",
       "    <tr>\n",
       "      <th>5</th>\n",
       "      <td>2014-12-31T00:00:00Z</td>\n",
       "      <td></td>\n",
       "      <td>Veja as principais fotos do dia e dos eventos ...</td>\n",
       "      <td></td>\n",
       "      <td>http://fotos.estadao.com.br/fotos/politica,dil...</td>\n",
       "      <td>6</td>\n",
       "    </tr>\n",
       "    <tr>\n",
       "      <th>6</th>\n",
       "      <td>2014-12-31T00:00:00Z</td>\n",
       "      <td>Veja os desafios dos governadores que assumem ...</td>\n",
       "      <td></td>\n",
       "      <td>No Acre, governador reeleito quer erradicar an...</td>\n",
       "      <td>http://politica.estadao.com.br/noticias/geral,...</td>\n",
       "      <td>7</td>\n",
       "    </tr>\n",
       "    <tr>\n",
       "      <th>7</th>\n",
       "      <td>2014-12-31T00:00:00Z</td>\n",
       "      <td>PT impulsiona cerimônia de posse da Dilma nas ...</td>\n",
       "      <td>Já entre os 27 governadores eleitos, apenas se...</td>\n",
       "      <td>Os perfis da presidente Dilma Rousseff, nas re...</td>\n",
       "      <td>http://politica.estadao.com.br/noticias/geral,...</td>\n",
       "      <td>8</td>\n",
       "    </tr>\n",
       "    <tr>\n",
       "      <th>8</th>\n",
       "      <td>2014-12-31T00:00:00Z</td>\n",
       "      <td></td>\n",
       "      <td>Em setembro de 2014, após conceder entrevista ...</td>\n",
       "      <td></td>\n",
       "      <td>http://tv.estadao.com.br/videos,politica,dilma...</td>\n",
       "      <td>9</td>\n",
       "    </tr>\n",
       "    <tr>\n",
       "      <th>9</th>\n",
       "      <td>2014-12-31T00:00:00Z</td>\n",
       "      <td>Dilma veta projeto de Suplicy que cria linha o...</td>\n",
       "      <td>Proposta havia sido aprovada no Senado depois ...</td>\n",
       "      <td>A presidente Dilma Rousseff vetou integralment...</td>\n",
       "      <td>http://politica.estadao.com.br/noticias/geral,...</td>\n",
       "      <td>10</td>\n",
       "    </tr>\n",
       "  </tbody>\n",
       "</table>\n",
       "</div>"
      ],
      "text/plain": [
       "              timestamp                                             titulo  \\\n",
       "0  2014-12-31T00:00:00Z     PT espera 30 mil pessoas em festa na Esplanada   \n",
       "1  2014-12-31T00:00:00Z             Alckmin toma posse de olho no Planalto   \n",
       "2  2014-12-31T00:00:00Z  Seis obstáculos e desafios do segundo mandato ...   \n",
       "3  2014-12-31T00:00:00Z                                                      \n",
       "4  2014-12-31T00:00:00Z                                                      \n",
       "5  2014-12-31T00:00:00Z                                                      \n",
       "6  2014-12-31T00:00:00Z  Veja os desafios dos governadores que assumem ...   \n",
       "7  2014-12-31T00:00:00Z  PT impulsiona cerimônia de posse da Dilma nas ...   \n",
       "8  2014-12-31T00:00:00Z                                                      \n",
       "9  2014-12-31T00:00:00Z  Dilma veta projeto de Suplicy que cria linha o...   \n",
       "\n",
       "                                           subTitulo  \\\n",
       "0  Objetivo é demonstrar apoio popular a Dilma e ...   \n",
       "1  Governador reeleito tenta amarrar tucanos paul...   \n",
       "2  Em meio a escândalo de corrupção, presidente t...   \n",
       "3  Veja as principais fotos do dia e dos eventos ...   \n",
       "4  Veja as principais fotos do dia e dos eventos ...   \n",
       "5  Veja as principais fotos do dia e dos eventos ...   \n",
       "6                                                      \n",
       "7  Já entre os 27 governadores eleitos, apenas se...   \n",
       "8  Em setembro de 2014, após conceder entrevista ...   \n",
       "9  Proposta havia sido aprovada no Senado depois ...   \n",
       "\n",
       "                                            conteudo  \\\n",
       "0  BRASÍLIA - Após o desgaste provocado com o lan...   \n",
       "1  Reeleito em outubro, o governador tucano Geral...   \n",
       "2    1. Rearranjo das contas A nova equipe econôm...   \n",
       "3                                                      \n",
       "4                                                      \n",
       "5                                                      \n",
       "6  No Acre, governador reeleito quer erradicar an...   \n",
       "7  Os perfis da presidente Dilma Rousseff, nas re...   \n",
       "8                                                      \n",
       "9  A presidente Dilma Rousseff vetou integralment...   \n",
       "\n",
       "                                                 url  idNoticia  \n",
       "0  http://politica.estadao.com.br/noticias/geral,...          1  \n",
       "1  http://politica.estadao.com.br/noticias/geral,...          2  \n",
       "2  http://politica.estadao.com.br/noticias/geral,...          3  \n",
       "3  http://fotos.estadao.com.br/fotos/politica,dil...          4  \n",
       "4  http://fotos.estadao.com.br/fotos/politica,dil...          5  \n",
       "5  http://fotos.estadao.com.br/fotos/politica,dil...          6  \n",
       "6  http://politica.estadao.com.br/noticias/geral,...          7  \n",
       "7  http://politica.estadao.com.br/noticias/geral,...          8  \n",
       "8  http://tv.estadao.com.br/videos,politica,dilma...          9  \n",
       "9  http://politica.estadao.com.br/noticias/geral,...         10  "
      ]
     },
     "execution_count": 73,
     "metadata": {},
     "output_type": "execute_result"
    }
   ],
   "source": [
    "df.head(n=ROWS_NUMBER)"
   ]
  },
  {
   "cell_type": "markdown",
   "metadata": {},
   "source": [
    "#### Tratando dados"
   ]
  },
  {
   "cell_type": "code",
   "execution_count": 74,
   "metadata": {},
   "outputs": [],
   "source": [
    "df[NOTICIA_COL] = df.apply(lambda row: concatena_dados(row), axis=VALOR_AXIS)"
   ]
  },
  {
   "cell_type": "code",
   "execution_count": 75,
   "metadata": {},
   "outputs": [],
   "source": [
    "df = df[[ID_NOTICIA_COL, NOTICIA_COL]]"
   ]
  },
  {
   "cell_type": "code",
   "execution_count": 76,
   "metadata": {},
   "outputs": [
    {
     "data": {
      "text/html": [
       "<div>\n",
       "<style scoped>\n",
       "    .dataframe tbody tr th:only-of-type {\n",
       "        vertical-align: middle;\n",
       "    }\n",
       "\n",
       "    .dataframe tbody tr th {\n",
       "        vertical-align: top;\n",
       "    }\n",
       "\n",
       "    .dataframe thead th {\n",
       "        text-align: right;\n",
       "    }\n",
       "</style>\n",
       "<table border=\"1\" class=\"dataframe\">\n",
       "  <thead>\n",
       "    <tr style=\"text-align: right;\">\n",
       "      <th></th>\n",
       "      <th>idNoticia</th>\n",
       "      <th>noticia</th>\n",
       "    </tr>\n",
       "  </thead>\n",
       "  <tbody>\n",
       "    <tr>\n",
       "      <th>0</th>\n",
       "      <td>1</td>\n",
       "      <td>pt espera 30 mil pessoas em festa na esplanada...</td>\n",
       "    </tr>\n",
       "    <tr>\n",
       "      <th>1</th>\n",
       "      <td>2</td>\n",
       "      <td>alckmin toma posse de olho no planalto governa...</td>\n",
       "    </tr>\n",
       "    <tr>\n",
       "      <th>2</th>\n",
       "      <td>3</td>\n",
       "      <td>seis obstáculos e desafios do segundo mandato ...</td>\n",
       "    </tr>\n",
       "    <tr>\n",
       "      <th>3</th>\n",
       "      <td>4</td>\n",
       "      <td>veja as principais fotos do dia e dos eventos...</td>\n",
       "    </tr>\n",
       "    <tr>\n",
       "      <th>4</th>\n",
       "      <td>5</td>\n",
       "      <td>veja as principais fotos do dia e dos eventos...</td>\n",
       "    </tr>\n",
       "    <tr>\n",
       "      <th>5</th>\n",
       "      <td>6</td>\n",
       "      <td>veja as principais fotos do dia e dos eventos...</td>\n",
       "    </tr>\n",
       "    <tr>\n",
       "      <th>6</th>\n",
       "      <td>7</td>\n",
       "      <td>veja os desafios dos governadores que assumem ...</td>\n",
       "    </tr>\n",
       "    <tr>\n",
       "      <th>7</th>\n",
       "      <td>8</td>\n",
       "      <td>pt impulsiona cerimônia de posse da dilma nas ...</td>\n",
       "    </tr>\n",
       "    <tr>\n",
       "      <th>8</th>\n",
       "      <td>9</td>\n",
       "      <td>em setembro de 2014, após conceder entrevista...</td>\n",
       "    </tr>\n",
       "    <tr>\n",
       "      <th>9</th>\n",
       "      <td>10</td>\n",
       "      <td>dilma veta projeto de suplicy que cria linha o...</td>\n",
       "    </tr>\n",
       "  </tbody>\n",
       "</table>\n",
       "</div>"
      ],
      "text/plain": [
       "   idNoticia                                            noticia\n",
       "0          1  pt espera 30 mil pessoas em festa na esplanada...\n",
       "1          2  alckmin toma posse de olho no planalto governa...\n",
       "2          3  seis obstáculos e desafios do segundo mandato ...\n",
       "3          4   veja as principais fotos do dia e dos eventos...\n",
       "4          5   veja as principais fotos do dia e dos eventos...\n",
       "5          6   veja as principais fotos do dia e dos eventos...\n",
       "6          7  veja os desafios dos governadores que assumem ...\n",
       "7          8  pt impulsiona cerimônia de posse da dilma nas ...\n",
       "8          9   em setembro de 2014, após conceder entrevista...\n",
       "9         10  dilma veta projeto de suplicy que cria linha o..."
      ]
     },
     "execution_count": 76,
     "metadata": {},
     "output_type": "execute_result"
    }
   ],
   "source": [
    "df.head(n=ROWS_NUMBER)"
   ]
  },
  {
   "cell_type": "code",
   "execution_count": 77,
   "metadata": {},
   "outputs": [],
   "source": [
    "df[TOKENS_COL] = df.apply(lambda row: tokeniza(row[NOTICIA_COL]), axis=VALOR_AXIS)"
   ]
  },
  {
   "cell_type": "code",
   "execution_count": 78,
   "metadata": {},
   "outputs": [
    {
     "data": {
      "text/html": [
       "<div>\n",
       "<style scoped>\n",
       "    .dataframe tbody tr th:only-of-type {\n",
       "        vertical-align: middle;\n",
       "    }\n",
       "\n",
       "    .dataframe tbody tr th {\n",
       "        vertical-align: top;\n",
       "    }\n",
       "\n",
       "    .dataframe thead th {\n",
       "        text-align: right;\n",
       "    }\n",
       "</style>\n",
       "<table border=\"1\" class=\"dataframe\">\n",
       "  <thead>\n",
       "    <tr style=\"text-align: right;\">\n",
       "      <th></th>\n",
       "      <th>idNoticia</th>\n",
       "      <th>noticia</th>\n",
       "      <th>tokens</th>\n",
       "    </tr>\n",
       "  </thead>\n",
       "  <tbody>\n",
       "    <tr>\n",
       "      <th>0</th>\n",
       "      <td>1</td>\n",
       "      <td>pt espera 30 mil pessoas em festa na esplanada...</td>\n",
       "      <td>{noite, após, governo, duvido, 10, caravana, m...</td>\n",
       "    </tr>\n",
       "    <tr>\n",
       "      <th>1</th>\n",
       "      <td>2</td>\n",
       "      <td>alckmin toma posse de olho no planalto governa...</td>\n",
       "      <td>{plano, governo, articulação, 44, secretariado...</td>\n",
       "    </tr>\n",
       "    <tr>\n",
       "      <th>2</th>\n",
       "      <td>3</td>\n",
       "      <td>seis obstáculos e desafios do segundo mandato ...</td>\n",
       "      <td>{qualidade, econômica, governo, carros, saúde,...</td>\n",
       "    </tr>\n",
       "    <tr>\n",
       "      <th>3</th>\n",
       "      <td>4</td>\n",
       "      <td>veja as principais fotos do dia e dos eventos...</td>\n",
       "      <td>{dia, ., estadão, brasil, veja, principais, mu...</td>\n",
       "    </tr>\n",
       "    <tr>\n",
       "      <th>4</th>\n",
       "      <td>5</td>\n",
       "      <td>veja as principais fotos do dia e dos eventos...</td>\n",
       "      <td>{dia, ., estadão, brasil, veja, principais, mu...</td>\n",
       "    </tr>\n",
       "    <tr>\n",
       "      <th>5</th>\n",
       "      <td>6</td>\n",
       "      <td>veja as principais fotos do dia e dos eventos...</td>\n",
       "      <td>{dia, ., estadão, brasil, veja, principais, mu...</td>\n",
       "    </tr>\n",
       "    <tr>\n",
       "      <th>6</th>\n",
       "      <td>7</td>\n",
       "      <td>veja os desafios dos governadores que assumem ...</td>\n",
       "      <td>{econômica, porém, dezembro, lrf, popular, pro...</td>\n",
       "    </tr>\n",
       "    <tr>\n",
       "      <th>7</th>\n",
       "      <td>8</td>\n",
       "      <td>pt impulsiona cerimônia de posse da dilma nas ...</td>\n",
       "      <td>{assessoria, tentaram, apesar, dezembro, gomes...</td>\n",
       "    </tr>\n",
       "    <tr>\n",
       "      <th>8</th>\n",
       "      <td>9</td>\n",
       "      <td>em setembro de 2014, após conceder entrevista...</td>\n",
       "      <td>{apresentou, após, tv, sobre, setembro, jornal...</td>\n",
       "    </tr>\n",
       "    <tr>\n",
       "      <th>9</th>\n",
       "      <td>10</td>\n",
       "      <td>dilma veta projeto de suplicy que cria linha o...</td>\n",
       "      <td>{tramitou, após, governo, veto, apesar, plano,...</td>\n",
       "    </tr>\n",
       "  </tbody>\n",
       "</table>\n",
       "</div>"
      ],
      "text/plain": [
       "   idNoticia                                            noticia  \\\n",
       "0          1  pt espera 30 mil pessoas em festa na esplanada...   \n",
       "1          2  alckmin toma posse de olho no planalto governa...   \n",
       "2          3  seis obstáculos e desafios do segundo mandato ...   \n",
       "3          4   veja as principais fotos do dia e dos eventos...   \n",
       "4          5   veja as principais fotos do dia e dos eventos...   \n",
       "5          6   veja as principais fotos do dia e dos eventos...   \n",
       "6          7  veja os desafios dos governadores que assumem ...   \n",
       "7          8  pt impulsiona cerimônia de posse da dilma nas ...   \n",
       "8          9   em setembro de 2014, após conceder entrevista...   \n",
       "9         10  dilma veta projeto de suplicy que cria linha o...   \n",
       "\n",
       "                                              tokens  \n",
       "0  {noite, após, governo, duvido, 10, caravana, m...  \n",
       "1  {plano, governo, articulação, 44, secretariado...  \n",
       "2  {qualidade, econômica, governo, carros, saúde,...  \n",
       "3  {dia, ., estadão, brasil, veja, principais, mu...  \n",
       "4  {dia, ., estadão, brasil, veja, principais, mu...  \n",
       "5  {dia, ., estadão, brasil, veja, principais, mu...  \n",
       "6  {econômica, porém, dezembro, lrf, popular, pro...  \n",
       "7  {assessoria, tentaram, apesar, dezembro, gomes...  \n",
       "8  {apresentou, após, tv, sobre, setembro, jornal...  \n",
       "9  {tramitou, após, governo, veto, apesar, plano,...  "
      ]
     },
     "execution_count": 78,
     "metadata": {},
     "output_type": "execute_result"
    }
   ],
   "source": [
    "df.head(n=ROWS_NUMBER)"
   ]
  },
  {
   "cell_type": "markdown",
   "metadata": {},
   "source": [
    "#### 1. Matriz de Ocorrência"
   ]
  },
  {
   "cell_type": "code",
   "execution_count": 79,
   "metadata": {},
   "outputs": [
    {
     "data": {
      "text/plain": [
       "3"
      ]
     },
     "execution_count": 79,
     "metadata": {},
     "output_type": "execute_result"
    }
   ],
   "source": [
    "'''Este código foi copiado de https://github.com/allansales/information-retrieval/blob/master/Lab%202/coocurrence_matrix.ipynb'''\n",
    "\n",
    "from scipy import sparse\n",
    "import nltk\n",
    "from nltk import bigrams\n",
    "from nltk.corpus import stopwords\n",
    "from nltk.tokenize import RegexpTokenizer\n",
    "\n",
    "def co_occurrence_matrix(corpus):\n",
    "    vocab = set(corpus)\n",
    "    vocab = list(vocab)\n",
    "    n = len(vocab)\n",
    "   \n",
    "    vocab_to_index = {word:i for i, word in enumerate(vocab)}\n",
    "    \n",
    "    bi_grams = list(bigrams(corpus))\n",
    "\n",
    "    bigram_freq = nltk.FreqDist(bi_grams).most_common(len(bi_grams))\n",
    "\n",
    "    I=list()\n",
    "    J=list()\n",
    "    V=list()\n",
    "    \n",
    "    for bigram in bigram_freq:\n",
    "        current = bigram[0][1]\n",
    "        previous = bigram[0][0]\n",
    "        count = bigram[1]\n",
    "\n",
    "        I.append(vocab_to_index[previous])\n",
    "        J.append(vocab_to_index[current])\n",
    "        V.append(count)\n",
    "        \n",
    "    co_occurrence_matrix = sparse.coo_matrix((V,(I,J)), shape=(n,n))\n",
    "\n",
    "    return co_occurrence_matrix, vocab_to_index\n",
    "\n",
    "tokenizer = RegexpTokenizer(r'\\w+')\n",
    "tokens_lists = df.noticia.apply(lambda text: tokenizer.tokenize(text.lower()))\n",
    "\n",
    "stopword_ = stopwords.words('portuguese')\n",
    "filtered_tokens = tokens_lists.apply(lambda tokens: [token for token in tokens if token not in stopword_])\n",
    "\n",
    "tokens = [token for tokens_list in filtered_tokens for token in tokens_list]\n",
    "matrix, vocab = co_occurrence_matrix(tokens)\n",
    "\n",
    "consultable_matrix = matrix.tocsr()\n",
    "\n",
    "def consult_frequency(w1, w2):\n",
    "    return(consultable_matrix[vocab[w1],vocab[w2]])\n",
    "\n",
    "w1 = 'poucos'\n",
    "w2 = 'recursos'\n",
    "consult_frequency(w1, w2)"
   ]
  },
  {
   "cell_type": "markdown",
   "metadata": {},
   "source": [
    "#### 2. Função que retorna top 3 palavras mais frequentes baseado em #1"
   ]
  },
  {
   "cell_type": "code",
   "execution_count": 80,
   "metadata": {},
   "outputs": [],
   "source": [
    "# invert key value \n",
    "util_vocab = {vocab[key]: key for key in vocab}\n",
    "\n",
    "def top_words(termo, N=3):\n",
    "    n_array = np.reshape(consultable_matrix[termo].toarray(), -1)\n",
    "    n_dict = {}\n",
    "    for i in (-n_array).argsort()[:N]:\n",
    "        n_dict[util_vocab[i]] = n_array[i]\n",
    "    return list(n_dict.keys())"
   ]
  },
  {
   "cell_type": "markdown",
   "metadata": {},
   "source": [
    "#### 3. Função que expande consulta"
   ]
  },
  {
   "cell_type": "code",
   "execution_count": 81,
   "metadata": {},
   "outputs": [],
   "source": [
    "def expande_query(termos):\n",
    "    query = []\n",
    "    termos = termos.split(' ')\n",
    "    if len(termos) > 1:\n",
    "        for termo in termos:\n",
    "            query.append(termo)\n",
    "            query.extend(top_words(vocab[termo]))\n",
    "    else:\n",
    "        query.append(termos[0])\n",
    "        query.extend(top_words(vocab[termos[0]]))\n",
    "        \n",
    "    return \" \".join(str(x) for x in set(query))"
   ]
  },
  {
   "cell_type": "markdown",
   "metadata": {},
   "source": [
    "#### 4. Consulta OR\n",
    "\n"
   ]
  },
  {
   "cell_type": "code",
   "execution_count": 104,
   "metadata": {},
   "outputs": [],
   "source": [
    "def criar_indexes(tokens, docId):\n",
    "    for token in tokens:\n",
    "        if token in d:\n",
    "            if docId in d[token]: d[token][docId] += 1\n",
    "            else: d[token][docId] = 1\n",
    "        else:\n",
    "            d[token] = {}\n",
    "            d[token][docId] = 1\n",
    "\n",
    "def busca(consulta):\n",
    "    consulta = consulta.lower().split(' ')\n",
    "    if len(consulta) >= 1:\n",
    "        termos = [termo for termo in consulta if termo != 'OR']\n",
    "        r = set(d[termos[0]])\n",
    "        for t in termos[1:]:\n",
    "            r = r | set(d[t])\n",
    "        return list(r)\n",
    "    return []\n",
    "\n",
    "d = collections.defaultdict(list)\n",
    "\n",
    "for index, row in df.iterrows():  \n",
    "    criar_indexes(row.tokens, row.idNoticia)"
   ]
  },
  {
   "cell_type": "markdown",
   "metadata": {},
   "source": [
    "## Respostas"
   ]
  },
  {
   "cell_type": "markdown",
   "metadata": {},
   "source": [
    "Escolhendo três termos livremente, temos:\n",
    "- Corrupção\n",
    "- Eleição\n",
    "- Lula"
   ]
  },
  {
   "cell_type": "code",
   "execution_count": 124,
   "metadata": {},
   "outputs": [
    {
     "name": "stdout",
     "output_type": "stream",
     "text": [
      "corrupção\n",
      "corrupção passiva petrobrás é\n",
      "eleição\n",
      "2010 presidencial eleição é\n",
      "lula\n",
      "silva disse dilma lula\n"
     ]
    }
   ],
   "source": [
    "q = [\"corrupção\", \"eleição\", \"lula\"]\n",
    "exp_q = []\n",
    "\n",
    "for t in q:\n",
    "    print(t)\n",
    "    r = expande_query(t)\n",
    "    exp_q.append(r)\n",
    "    print(r)"
   ]
  },
  {
   "cell_type": "markdown",
   "metadata": {},
   "source": [
    "De acordo com o resultado acima, é  possível ver que a query original está relacionada com a query expandida.\n",
    "Corrupção está fortemente associado à Petrobrás dados os últimos escandalos, assim como Dilma está relacionada com eleicao presidencial, alem disto, Lula e Dilma estao associados tambem."
   ]
  },
  {
   "cell_type": "code",
   "execution_count": 136,
   "metadata": {},
   "outputs": [
    {
     "name": "stdout",
     "output_type": "stream",
     "text": [
      "Consulta para corrupção retornou 1138 documentos\n",
      "Consulta expandida para corrupção (corrupção passiva petrobrás é) retornou 6914 documentos\n",
      "\n",
      "Consulta para eleição retornou 1792 documentos\n",
      "Consulta expandida para eleição (2010 presidencial eleição é) retornou 6932 documentos\n",
      "\n",
      "Consulta para lula retornou 1891 documentos\n",
      "Consulta expandida para lula (silva disse dilma lula) retornou 6402 documentos\n",
      "\n"
     ]
    }
   ],
   "source": [
    "for i in range(len(q)):\n",
    "    print(\"Consulta para %s retornou %d documentos\" % (q[i], len(busca(q[i]))))\n",
    "    print(\"Consulta expandida para %s (%s) retornou %d documentos\" % (q[i], exp_q[i], len(busca(exp_q[i]))))\n",
    "    print()"
   ]
  },
  {
   "cell_type": "markdown",
   "metadata": {},
   "source": [
    "Os resultados que mais atenderao as necessidades do usuario serao os da consulta expandida pois visto que a consulta expandida esta relacionada a consulta original e que a consulta expandida retornam muito mais documentos, entao certamente havera informacao mais valiosa para o usuario."
   ]
  },
  {
   "cell_type": "markdown",
   "metadata": {},
   "source": [
    "Ainda sobre a consulta expandida, a mesma melhorara o recall e precision pois de acordo com https://en.wikipedia.org/wiki/Precision_and_recall precision é a fracao relevante de instancias dentre as instancias recuperadas e recall é a fracao de instancias relevantes que foram recuperadas sobre o total de instancias relevantes. Logo, se a quantidade de instancias recuperadas com a consulta expandida foi muito maior que a da consulta original, entao precision e recall aumentarao."
   ]
  }
 ],
 "metadata": {
  "kernelspec": {
   "display_name": "Python 3",
   "language": "python",
   "name": "python3"
  },
  "language_info": {
   "codemirror_mode": {
    "name": "ipython",
    "version": 3
   },
   "file_extension": ".py",
   "mimetype": "text/x-python",
   "name": "python",
   "nbconvert_exporter": "python",
   "pygments_lexer": "ipython3",
   "version": "3.6.4"
  }
 },
 "nbformat": 4,
 "nbformat_minor": 2
}
