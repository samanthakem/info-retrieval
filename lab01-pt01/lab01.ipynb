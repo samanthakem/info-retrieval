{
 "cells": [
  {
   "cell_type": "code",
   "execution_count": 155,
   "metadata": {},
   "outputs": [],
   "source": [
    "import numpy as np\n",
    "import pandas as pd\n",
    "from nltk.tokenize import word_tokenize"
   ]
  },
  {
   "cell_type": "code",
   "execution_count": 156,
   "metadata": {},
   "outputs": [],
   "source": [
    "#### CONSTANTES"
   ]
  },
  {
   "cell_type": "code",
   "execution_count": 157,
   "metadata": {},
   "outputs": [],
   "source": [
    "PATH_BASE_DE_DADOS = 'data/noticias_estadao.csv'\n",
    "VALOR_AXIS = 1\n",
    "QUANTIDADE_ROWS = 10\n",
    "TITULO_COL = \"titulo\"\n",
    "CONTEUDO_COL = \"conteudo\"\n",
    "NOTICIA_COMPLETA_COL = \"noticia_completa\"\n",
    "ID_NOTICIA_COL = \"idNoticia\"\n",
    "TOKENS_COL = \"tokens\"\n",
    "TERMO_COL = \"termo\"\n",
    "AND = \"AND\"\n",
    "OR = \"OR\""
   ]
  },
  {
   "cell_type": "code",
   "execution_count": 158,
   "metadata": {},
   "outputs": [],
   "source": [
    "#### CLASSE"
   ]
  },
  {
   "cell_type": "code",
   "execution_count": 159,
   "metadata": {},
   "outputs": [],
   "source": [
    "# Modela um indice invertido baseado no livro texto da disciplina (https://nlp.stanford.edu/IR-book/)\n",
    "class IndiceInvertido:\n",
    "    def __init__(self, termo, freq, posting_lists):\n",
    "        self.termo = termo\n",
    "        self.freq = freq\n",
    "        self.posting_lists = posting_lists\n",
    "        \n",
    "    def get_termo(self):\n",
    "        return self.termo\n",
    "    \n",
    "    def get_freq(self):\n",
    "        return self.freq\n",
    "    \n",
    "    def get_posting_lists(self):\n",
    "        return self.posting_lists"
   ]
  },
  {
   "cell_type": "code",
   "execution_count": 160,
   "metadata": {},
   "outputs": [],
   "source": [
    "#### MÉTODOS"
   ]
  },
  {
   "cell_type": "code",
   "execution_count": 161,
   "metadata": {},
   "outputs": [],
   "source": [
    "# concatena titulo com conteudo da noticia afim de descartar uma coluna\n",
    "def concatena_titulo_conteudo(row):\n",
    "    return (row[TITULO_COL] + \" \" + row[CONTEUDO_COL]).lower()"
   ]
  },
  {
   "cell_type": "code",
   "execution_count": 162,
   "metadata": {},
   "outputs": [],
   "source": [
    "# tokeniza todo o conteudo de uma sentenca\n",
    "def tokeniza(conteudo):\n",
    "    return set(word_tokenize(conteudo))"
   ]
  },
  {
   "cell_type": "code",
   "execution_count": 163,
   "metadata": {},
   "outputs": [],
   "source": [
    "# associa um token para cada id de noticia (one-to-one)\n",
    "def associa_token_noticia(lista_tokens_associados, row):\n",
    "    for token in row[TOKENS_COL]:\n",
    "        lista_tokens_associados.append({\n",
    "            TERMO_COL: token.strip(),\n",
    "            ID_NOTICIA_COL: row[ID_NOTICIA_COL]\n",
    "        })"
   ]
  },
  {
   "cell_type": "code",
   "execution_count": 164,
   "metadata": {},
   "outputs": [],
   "source": [
    "# Cria indice invertido a partir da classe definida anteriormente\n",
    "def cria_indice_invertido(tokens_associados_df):\n",
    "    indice_invertido = dict()\n",
    "    for termo, itens_agrupados in tokens_associados_df.groupby([TERMO_COL]):\n",
    "        freq = len(itens_agrupados.get_values())\n",
    "        posting_lists = set(itens_agrupados[ID_NOTICIA_COL])\n",
    "        indice_invertido[termo] = IndiceInvertido(termo, freq, posting_lists)\n",
    "    return indice_invertido"
   ]
  },
  {
   "cell_type": "code",
   "execution_count": 165,
   "metadata": {},
   "outputs": [],
   "source": [
    "# verifica se query tem apenas 1 termo\n",
    "def tem_um_termo(query):  \n",
    "    return len(query.split(\" \")) == 1"
   ]
  },
  {
   "cell_type": "code",
   "execution_count": 166,
   "metadata": {},
   "outputs": [],
   "source": [
    "# ordena os termos do indice invertido por frequencia\n",
    "def ordena_por_frequencia(termos, indice_invertido):\n",
    "    resultado = list(map(lambda termo: indice_invertido[termo], termos))\n",
    "    resultado.sort(key = lambda termo: termo.get_freq())\n",
    "    return resultado"
   ]
  },
  {
   "cell_type": "code",
   "execution_count": 167,
   "metadata": {},
   "outputs": [],
   "source": [
    "# recupera conjuncao que pode ser AND ou OR\n",
    "def get_conjuncao(query):  \n",
    "    return AND if AND in query else OR"
   ]
  },
  {
   "cell_type": "code",
   "execution_count": 168,
   "metadata": {},
   "outputs": [],
   "source": [
    "def busca_booleana(termos, conjuncao, indice_invertido):\n",
    "    ordenados_por_frequencia = ordena_por_frequencia(termos, indice_invertido)\n",
    "    posting_lists = ordenados_por_frequencia[0].get_posting_lists()\n",
    "    resultado = posting_lists\n",
    "    \n",
    "    for termo in ordenados_por_frequencia:\n",
    "        posting_lists = termo.get_posting_lists()  \n",
    "        if conjuncao == AND:\n",
    "            resultado = resultado & posting_lists\n",
    "        elif conjuncao == OR:\n",
    "            resultado = resultado | posting_lists\n",
    "            \n",
    "    return list(resultado)"
   ]
  },
  {
   "cell_type": "code",
   "execution_count": 169,
   "metadata": {},
   "outputs": [],
   "source": [
    "def busca(query, indice_invertido):\n",
    "    if tem_um_termo(query):\n",
    "        termo = query.lower()\n",
    "        return indice_invertido[termo].get_posting_lists()\n",
    "    else:\n",
    "        conjuncao = get_conjuncao(query)\n",
    "        termos = query.split(\" \" + conjuncao + \" \")\n",
    "        termos = list(map(lambda termo:termo.lower(), termos))\n",
    "        return busca_booleana(termos, conjuncao, indice_invertido)"
   ]
  },
  {
   "cell_type": "code",
   "execution_count": 170,
   "metadata": {},
   "outputs": [],
   "source": [
    "#### WORKFLOW"
   ]
  },
  {
   "cell_type": "code",
   "execution_count": 185,
   "metadata": {},
   "outputs": [],
   "source": [
    "# importando base de dados no formato do DataFrame\n",
    "df = pd.read_csv(PATH_BASE_DE_DADOS)"
   ]
  },
  {
   "cell_type": "code",
   "execution_count": 186,
   "metadata": {},
   "outputs": [
    {
     "data": {
      "text/html": [
       "<div>\n",
       "<style scoped>\n",
       "    .dataframe tbody tr th:only-of-type {\n",
       "        vertical-align: middle;\n",
       "    }\n",
       "\n",
       "    .dataframe tbody tr th {\n",
       "        vertical-align: top;\n",
       "    }\n",
       "\n",
       "    .dataframe thead th {\n",
       "        text-align: right;\n",
       "    }\n",
       "</style>\n",
       "<table border=\"1\" class=\"dataframe\">\n",
       "  <thead>\n",
       "    <tr style=\"text-align: right;\">\n",
       "      <th></th>\n",
       "      <th>titulo</th>\n",
       "      <th>conteudo</th>\n",
       "      <th>idNoticia</th>\n",
       "    </tr>\n",
       "  </thead>\n",
       "  <tbody>\n",
       "    <tr>\n",
       "      <th>0</th>\n",
       "      <td>11 dos eleitores do País são filiados a legendas</td>\n",
       "      <td>Há porém variações regionais nesse fenômeno En...</td>\n",
       "      <td>7617</td>\n",
       "    </tr>\n",
       "    <tr>\n",
       "      <th>1</th>\n",
       "      <td>11 executivos integram 1º pedido de condenação...</td>\n",
       "      <td>CURITIBA A força-tarefa da Operação Lava Jato ...</td>\n",
       "      <td>412</td>\n",
       "    </tr>\n",
       "    <tr>\n",
       "      <th>2</th>\n",
       "      <td>11 executivos integram 1º pedido de condenação...</td>\n",
       "      <td>CURITIBA A força-tarefa da Operação Lava Jato ...</td>\n",
       "      <td>415</td>\n",
       "    </tr>\n",
       "    <tr>\n",
       "      <th>3</th>\n",
       "      <td>13 de deputados do PMDB quer romper com PT</td>\n",
       "      <td>O Estado ouviu 54 dos 74 deputados do PMDB em ...</td>\n",
       "      <td>6736</td>\n",
       "    </tr>\n",
       "    <tr>\n",
       "      <th>4</th>\n",
       "      <td>2014 começou em 2007</td>\n",
       "      <td>O estudo do Estadão Dados publicado ontem sobr...</td>\n",
       "      <td>7611</td>\n",
       "    </tr>\n",
       "    <tr>\n",
       "      <th>5</th>\n",
       "      <td>2014 passa pelos palanques regionais diz Lupi</td>\n",
       "      <td>Segundo ele há uma falta de acordo na composiç...</td>\n",
       "      <td>7423</td>\n",
       "    </tr>\n",
       "    <tr>\n",
       "      <th>6</th>\n",
       "      <td>2018 com jeito de 2006</td>\n",
       "      <td>O resultado da eleição com o triunfo da polari...</td>\n",
       "      <td>1004</td>\n",
       "    </tr>\n",
       "    <tr>\n",
       "      <th>7</th>\n",
       "      <td>2º mandato de Dilma será o mais dependente do ...</td>\n",
       "      <td>O segundo mandato da presidente Dilma Rousseff...</td>\n",
       "      <td>71</td>\n",
       "    </tr>\n",
       "    <tr>\n",
       "      <th>8</th>\n",
       "      <td>2º turno se discute no 2º turno defende Marina</td>\n",
       "      <td>A ex-senadora tem sido alvo de críticas de gru...</td>\n",
       "      <td>3125</td>\n",
       "    </tr>\n",
       "    <tr>\n",
       "      <th>9</th>\n",
       "      <td>360 graus</td>\n",
       "      <td>Na batalha da comunicação conseguiu uma proeza...</td>\n",
       "      <td>4708</td>\n",
       "    </tr>\n",
       "  </tbody>\n",
       "</table>\n",
       "</div>"
      ],
      "text/plain": [
       "                                              titulo  \\\n",
       "0   11 dos eleitores do País são filiados a legendas   \n",
       "1  11 executivos integram 1º pedido de condenação...   \n",
       "2  11 executivos integram 1º pedido de condenação...   \n",
       "3         13 de deputados do PMDB quer romper com PT   \n",
       "4                               2014 começou em 2007   \n",
       "5      2014 passa pelos palanques regionais diz Lupi   \n",
       "6                             2018 com jeito de 2006   \n",
       "7  2º mandato de Dilma será o mais dependente do ...   \n",
       "8     2º turno se discute no 2º turno defende Marina   \n",
       "9                                          360 graus   \n",
       "\n",
       "                                            conteudo  idNoticia  \n",
       "0  Há porém variações regionais nesse fenômeno En...       7617  \n",
       "1  CURITIBA A força-tarefa da Operação Lava Jato ...        412  \n",
       "2  CURITIBA A força-tarefa da Operação Lava Jato ...        415  \n",
       "3  O Estado ouviu 54 dos 74 deputados do PMDB em ...       6736  \n",
       "4  O estudo do Estadão Dados publicado ontem sobr...       7611  \n",
       "5  Segundo ele há uma falta de acordo na composiç...       7423  \n",
       "6  O resultado da eleição com o triunfo da polari...       1004  \n",
       "7  O segundo mandato da presidente Dilma Rousseff...         71  \n",
       "8  A ex-senadora tem sido alvo de críticas de gru...       3125  \n",
       "9  Na batalha da comunicação conseguiu uma proeza...       4708  "
      ]
     },
     "execution_count": 186,
     "metadata": {},
     "output_type": "execute_result"
    }
   ],
   "source": [
    "# mostra os 10 (QUANTIDADE_ROWS) primeiros itens da DataFrame\n",
    "df.head(n=QUANTIDADE_ROWS)"
   ]
  },
  {
   "cell_type": "code",
   "execution_count": 187,
   "metadata": {},
   "outputs": [],
   "source": [
    "# aplica a função de concatenação em todas as linhas do DataFrame\n",
    "df[NOTICIA_COMPLETA_COL] = df.apply(lambda row: concatena_titulo_conteudo(row), axis=VALOR_AXIS)"
   ]
  },
  {
   "cell_type": "code",
   "execution_count": 188,
   "metadata": {},
   "outputs": [],
   "source": [
    "# remove colunas desnecessárias\n",
    "df = df[[ID_NOTICIA_COL, NOTICIA_COMPLETA_COL]]"
   ]
  },
  {
   "cell_type": "code",
   "execution_count": 189,
   "metadata": {},
   "outputs": [
    {
     "data": {
      "text/html": [
       "<div>\n",
       "<style scoped>\n",
       "    .dataframe tbody tr th:only-of-type {\n",
       "        vertical-align: middle;\n",
       "    }\n",
       "\n",
       "    .dataframe tbody tr th {\n",
       "        vertical-align: top;\n",
       "    }\n",
       "\n",
       "    .dataframe thead th {\n",
       "        text-align: right;\n",
       "    }\n",
       "</style>\n",
       "<table border=\"1\" class=\"dataframe\">\n",
       "  <thead>\n",
       "    <tr style=\"text-align: right;\">\n",
       "      <th></th>\n",
       "      <th>idNoticia</th>\n",
       "      <th>noticia_completa</th>\n",
       "    </tr>\n",
       "  </thead>\n",
       "  <tbody>\n",
       "    <tr>\n",
       "      <th>0</th>\n",
       "      <td>7617</td>\n",
       "      <td>11 dos eleitores do país são filiados a legend...</td>\n",
       "    </tr>\n",
       "    <tr>\n",
       "      <th>1</th>\n",
       "      <td>412</td>\n",
       "      <td>11 executivos integram 1º pedido de condenação...</td>\n",
       "    </tr>\n",
       "    <tr>\n",
       "      <th>2</th>\n",
       "      <td>415</td>\n",
       "      <td>11 executivos integram 1º pedido de condenação...</td>\n",
       "    </tr>\n",
       "    <tr>\n",
       "      <th>3</th>\n",
       "      <td>6736</td>\n",
       "      <td>13 de deputados do pmdb quer romper com pt o e...</td>\n",
       "    </tr>\n",
       "    <tr>\n",
       "      <th>4</th>\n",
       "      <td>7611</td>\n",
       "      <td>2014 começou em 2007 o estudo do estadão dados...</td>\n",
       "    </tr>\n",
       "    <tr>\n",
       "      <th>5</th>\n",
       "      <td>7423</td>\n",
       "      <td>2014 passa pelos palanques regionais diz lupi ...</td>\n",
       "    </tr>\n",
       "    <tr>\n",
       "      <th>6</th>\n",
       "      <td>1004</td>\n",
       "      <td>2018 com jeito de 2006 o resultado da eleição ...</td>\n",
       "    </tr>\n",
       "    <tr>\n",
       "      <th>7</th>\n",
       "      <td>71</td>\n",
       "      <td>2º mandato de dilma será o mais dependente do ...</td>\n",
       "    </tr>\n",
       "    <tr>\n",
       "      <th>8</th>\n",
       "      <td>3125</td>\n",
       "      <td>2º turno se discute no 2º turno defende marina...</td>\n",
       "    </tr>\n",
       "    <tr>\n",
       "      <th>9</th>\n",
       "      <td>4708</td>\n",
       "      <td>360 graus na batalha da comunicação conseguiu ...</td>\n",
       "    </tr>\n",
       "  </tbody>\n",
       "</table>\n",
       "</div>"
      ],
      "text/plain": [
       "   idNoticia                                   noticia_completa\n",
       "0       7617  11 dos eleitores do país são filiados a legend...\n",
       "1        412  11 executivos integram 1º pedido de condenação...\n",
       "2        415  11 executivos integram 1º pedido de condenação...\n",
       "3       6736  13 de deputados do pmdb quer romper com pt o e...\n",
       "4       7611  2014 começou em 2007 o estudo do estadão dados...\n",
       "5       7423  2014 passa pelos palanques regionais diz lupi ...\n",
       "6       1004  2018 com jeito de 2006 o resultado da eleição ...\n",
       "7         71  2º mandato de dilma será o mais dependente do ...\n",
       "8       3125  2º turno se discute no 2º turno defende marina...\n",
       "9       4708  360 graus na batalha da comunicação conseguiu ..."
      ]
     },
     "execution_count": 189,
     "metadata": {},
     "output_type": "execute_result"
    }
   ],
   "source": [
    "df.head(n=QUANTIDADE_ROWS)"
   ]
  },
  {
   "cell_type": "code",
   "execution_count": 190,
   "metadata": {},
   "outputs": [],
   "source": [
    "# aplica a funcao de tokeniza em todas as rows\n",
    "df[TOKENS_COL] = df.apply(lambda row: tokeniza(row[NOTICIA_COMPLETA_COL]), axis=VALOR_AXIS)"
   ]
  },
  {
   "cell_type": "code",
   "execution_count": 191,
   "metadata": {},
   "outputs": [
    {
     "data": {
      "text/html": [
       "<div>\n",
       "<style scoped>\n",
       "    .dataframe tbody tr th:only-of-type {\n",
       "        vertical-align: middle;\n",
       "    }\n",
       "\n",
       "    .dataframe tbody tr th {\n",
       "        vertical-align: top;\n",
       "    }\n",
       "\n",
       "    .dataframe thead th {\n",
       "        text-align: right;\n",
       "    }\n",
       "</style>\n",
       "<table border=\"1\" class=\"dataframe\">\n",
       "  <thead>\n",
       "    <tr style=\"text-align: right;\">\n",
       "      <th></th>\n",
       "      <th>idNoticia</th>\n",
       "      <th>noticia_completa</th>\n",
       "      <th>tokens</th>\n",
       "    </tr>\n",
       "  </thead>\n",
       "  <tbody>\n",
       "    <tr>\n",
       "      <th>0</th>\n",
       "      <td>7617</td>\n",
       "      <td>11 dos eleitores do país são filiados a legend...</td>\n",
       "      <td>{agosto, quem, no, amazonas, busca, sul, há, h...</td>\n",
       "    </tr>\n",
       "    <tr>\n",
       "      <th>1</th>\n",
       "      <td>412</td>\n",
       "      <td>11 executivos integram 1º pedido de condenação...</td>\n",
       "      <td>{ordens, tinham, no, organização, usaram, açõe...</td>\n",
       "    </tr>\n",
       "    <tr>\n",
       "      <th>2</th>\n",
       "      <td>415</td>\n",
       "      <td>11 executivos integram 1º pedido de condenação...</td>\n",
       "      <td>{tinham, no, organização, usaram, ações, setal...</td>\n",
       "    </tr>\n",
       "    <tr>\n",
       "      <th>3</th>\n",
       "      <td>6736</td>\n",
       "      <td>13 de deputados do pmdb quer romper com pt o e...</td>\n",
       "      <td>{entrevistas, no, mereceria, silva, sobre, é, ...</td>\n",
       "    </tr>\n",
       "    <tr>\n",
       "      <th>4</th>\n",
       "      <td>7611</td>\n",
       "      <td>2014 começou em 2007 o estudo do estadão dados...</td>\n",
       "      <td>{precisam, quem, passaram, no, pleito, partidá...</td>\n",
       "    </tr>\n",
       "    <tr>\n",
       "      <th>5</th>\n",
       "      <td>7423</td>\n",
       "      <td>2014 passa pelos palanques regionais diz lupi ...</td>\n",
       "      <td>{sendo, segundo, no, pdt, como, a, reunir, def...</td>\n",
       "    </tr>\n",
       "    <tr>\n",
       "      <th>6</th>\n",
       "      <td>1004</td>\n",
       "      <td>2018 com jeito de 2006 o resultado da eleição ...</td>\n",
       "      <td>{geraldo, mandato, atual, relação, derrubar, n...</td>\n",
       "    </tr>\n",
       "    <tr>\n",
       "      <th>7</th>\n",
       "      <td>71</td>\n",
       "      <td>2º mandato de dilma será o mais dependente do ...</td>\n",
       "      <td>{rebelião, mandato, começará, controlará, no, ...</td>\n",
       "    </tr>\n",
       "    <tr>\n",
       "      <th>8</th>\n",
       "      <td>3125</td>\n",
       "      <td>2º turno se discute no 2º turno defende marina...</td>\n",
       "      <td>{brasileiros, iniciativas, quem, atual, ponto,...</td>\n",
       "    </tr>\n",
       "    <tr>\n",
       "      <th>9</th>\n",
       "      <td>4708</td>\n",
       "      <td>360 graus na batalha da comunicação conseguiu ...</td>\n",
       "      <td>{mário, barbacena, quem, derrubar, no, assunto...</td>\n",
       "    </tr>\n",
       "  </tbody>\n",
       "</table>\n",
       "</div>"
      ],
      "text/plain": [
       "   idNoticia                                   noticia_completa  \\\n",
       "0       7617  11 dos eleitores do país são filiados a legend...   \n",
       "1        412  11 executivos integram 1º pedido de condenação...   \n",
       "2        415  11 executivos integram 1º pedido de condenação...   \n",
       "3       6736  13 de deputados do pmdb quer romper com pt o e...   \n",
       "4       7611  2014 começou em 2007 o estudo do estadão dados...   \n",
       "5       7423  2014 passa pelos palanques regionais diz lupi ...   \n",
       "6       1004  2018 com jeito de 2006 o resultado da eleição ...   \n",
       "7         71  2º mandato de dilma será o mais dependente do ...   \n",
       "8       3125  2º turno se discute no 2º turno defende marina...   \n",
       "9       4708  360 graus na batalha da comunicação conseguiu ...   \n",
       "\n",
       "                                              tokens  \n",
       "0  {agosto, quem, no, amazonas, busca, sul, há, h...  \n",
       "1  {ordens, tinham, no, organização, usaram, açõe...  \n",
       "2  {tinham, no, organização, usaram, ações, setal...  \n",
       "3  {entrevistas, no, mereceria, silva, sobre, é, ...  \n",
       "4  {precisam, quem, passaram, no, pleito, partidá...  \n",
       "5  {sendo, segundo, no, pdt, como, a, reunir, def...  \n",
       "6  {geraldo, mandato, atual, relação, derrubar, n...  \n",
       "7  {rebelião, mandato, começará, controlará, no, ...  \n",
       "8  {brasileiros, iniciativas, quem, atual, ponto,...  \n",
       "9  {mário, barbacena, quem, derrubar, no, assunto...  "
      ]
     },
     "execution_count": 191,
     "metadata": {},
     "output_type": "execute_result"
    }
   ],
   "source": [
    "df.head(n=QUANTIDADE_ROWS)"
   ]
  },
  {
   "cell_type": "code",
   "execution_count": 192,
   "metadata": {},
   "outputs": [],
   "source": [
    "lista_tokens_associados = []"
   ]
  },
  {
   "cell_type": "code",
   "execution_count": 193,
   "metadata": {},
   "outputs": [
    {
     "data": {
      "text/plain": [
       "0       None\n",
       "1       None\n",
       "2       None\n",
       "3       None\n",
       "4       None\n",
       "5       None\n",
       "6       None\n",
       "7       None\n",
       "8       None\n",
       "9       None\n",
       "10      None\n",
       "11      None\n",
       "12      None\n",
       "13      None\n",
       "14      None\n",
       "15      None\n",
       "16      None\n",
       "17      None\n",
       "18      None\n",
       "19      None\n",
       "20      None\n",
       "21      None\n",
       "22      None\n",
       "23      None\n",
       "24      None\n",
       "25      None\n",
       "26      None\n",
       "27      None\n",
       "28      None\n",
       "29      None\n",
       "        ... \n",
       "7613    None\n",
       "7614    None\n",
       "7615    None\n",
       "7616    None\n",
       "7617    None\n",
       "7618    None\n",
       "7619    None\n",
       "7620    None\n",
       "7621    None\n",
       "7622    None\n",
       "7623    None\n",
       "7624    None\n",
       "7625    None\n",
       "7626    None\n",
       "7627    None\n",
       "7628    None\n",
       "7629    None\n",
       "7630    None\n",
       "7631    None\n",
       "7632    None\n",
       "7633    None\n",
       "7634    None\n",
       "7635    None\n",
       "7636    None\n",
       "7637    None\n",
       "7638    None\n",
       "7639    None\n",
       "7640    None\n",
       "7641    None\n",
       "7642    None\n",
       "Length: 7643, dtype: object"
      ]
     },
     "execution_count": 193,
     "metadata": {},
     "output_type": "execute_result"
    }
   ],
   "source": [
    "df.apply(lambda row: associa_token_noticia(lista_tokens_associados, row), axis=VALOR_AXIS)"
   ]
  },
  {
   "cell_type": "code",
   "execution_count": 194,
   "metadata": {},
   "outputs": [
    {
     "name": "stdout",
     "output_type": "stream",
     "text": [
      "[{'termo': 'agosto', 'idNoticia': 7617}, {'termo': 'quem', 'idNoticia': 7617}, {'termo': 'no', 'idNoticia': 7617}, {'termo': 'amazonas', 'idNoticia': 7617}, {'termo': 'busca', 'idNoticia': 7617}, {'termo': 'sul', 'idNoticia': 7617}, {'termo': 'há', 'idNoticia': 7617}, {'termo': 'habitantes', 'idNoticia': 7617}, {'termo': 'regionais', 'idNoticia': 7617}, {'termo': 'é', 'idNoticia': 7617}]\n"
     ]
    }
   ],
   "source": [
    "print(lista_tokens_associados[:QUANTIDADE_ROWS])"
   ]
  },
  {
   "cell_type": "code",
   "execution_count": 195,
   "metadata": {},
   "outputs": [],
   "source": [
    "tokens_associados_df = pd.DataFrame(lista_tokens_associados)"
   ]
  },
  {
   "cell_type": "code",
   "execution_count": 196,
   "metadata": {},
   "outputs": [
    {
     "data": {
      "text/html": [
       "<div>\n",
       "<style scoped>\n",
       "    .dataframe tbody tr th:only-of-type {\n",
       "        vertical-align: middle;\n",
       "    }\n",
       "\n",
       "    .dataframe tbody tr th {\n",
       "        vertical-align: top;\n",
       "    }\n",
       "\n",
       "    .dataframe thead th {\n",
       "        text-align: right;\n",
       "    }\n",
       "</style>\n",
       "<table border=\"1\" class=\"dataframe\">\n",
       "  <thead>\n",
       "    <tr style=\"text-align: right;\">\n",
       "      <th></th>\n",
       "      <th>idNoticia</th>\n",
       "      <th>termo</th>\n",
       "    </tr>\n",
       "  </thead>\n",
       "  <tbody>\n",
       "    <tr>\n",
       "      <th>0</th>\n",
       "      <td>7617</td>\n",
       "      <td>agosto</td>\n",
       "    </tr>\n",
       "    <tr>\n",
       "      <th>1</th>\n",
       "      <td>7617</td>\n",
       "      <td>quem</td>\n",
       "    </tr>\n",
       "    <tr>\n",
       "      <th>2</th>\n",
       "      <td>7617</td>\n",
       "      <td>no</td>\n",
       "    </tr>\n",
       "    <tr>\n",
       "      <th>3</th>\n",
       "      <td>7617</td>\n",
       "      <td>amazonas</td>\n",
       "    </tr>\n",
       "    <tr>\n",
       "      <th>4</th>\n",
       "      <td>7617</td>\n",
       "      <td>busca</td>\n",
       "    </tr>\n",
       "    <tr>\n",
       "      <th>5</th>\n",
       "      <td>7617</td>\n",
       "      <td>sul</td>\n",
       "    </tr>\n",
       "    <tr>\n",
       "      <th>6</th>\n",
       "      <td>7617</td>\n",
       "      <td>há</td>\n",
       "    </tr>\n",
       "    <tr>\n",
       "      <th>7</th>\n",
       "      <td>7617</td>\n",
       "      <td>habitantes</td>\n",
       "    </tr>\n",
       "    <tr>\n",
       "      <th>8</th>\n",
       "      <td>7617</td>\n",
       "      <td>regionais</td>\n",
       "    </tr>\n",
       "    <tr>\n",
       "      <th>9</th>\n",
       "      <td>7617</td>\n",
       "      <td>é</td>\n",
       "    </tr>\n",
       "  </tbody>\n",
       "</table>\n",
       "</div>"
      ],
      "text/plain": [
       "   idNoticia       termo\n",
       "0       7617      agosto\n",
       "1       7617        quem\n",
       "2       7617          no\n",
       "3       7617    amazonas\n",
       "4       7617       busca\n",
       "5       7617         sul\n",
       "6       7617          há\n",
       "7       7617  habitantes\n",
       "8       7617   regionais\n",
       "9       7617           é"
      ]
     },
     "execution_count": 196,
     "metadata": {},
     "output_type": "execute_result"
    }
   ],
   "source": [
    "tokens_associados_df.head(n=QUANTIDADE_ROWS)"
   ]
  },
  {
   "cell_type": "code",
   "execution_count": 197,
   "metadata": {},
   "outputs": [],
   "source": [
    "indice_invertido = cria_indice_invertido(tokens_associados_df)"
   ]
  },
  {
   "cell_type": "code",
   "execution_count": 202,
   "metadata": {},
   "outputs": [],
   "source": [
    "# Exemplo dado no canvas\n",
    "assert sorted(busca(\"Campina AND Grande\", indice_invertido)) == sorted([1952, 4802, 1987, 6694, 5382, 1770, 2763, 1068, 5870, 2777, 1370, 2779])\n",
    "\n",
    "# 1. debate, presidenciável (AND e OR)\n",
    "assert len(busca(\"debate OR presidencial\", indice_invertido)) == 1770\n",
    "assert len(busca(\"debate AND presidencial\", indice_invertido)) == 201\n",
    "\n",
    "# 2. presidenciáveis, corruptos (AND e OR)\n",
    "assert len(busca(\"presidenciáveis OR corruptos\", indice_invertido)) == 164\n",
    "assert len(busca(\"presidenciáveis AND corruptos\", indice_invertido)) == 0\n",
    "\n",
    "# 3. Belo, Horizonte (AND e OR)\n",
    "assert len(busca(\"Belo OR Horizonte\", indice_invertido)) == 331\n",
    "assert len(busca(\"Belo AND Horizonte\", indice_invertido)) == 242"
   ]
  }
 ],
 "metadata": {
  "kernelspec": {
   "display_name": "Python 3",
   "language": "python",
   "name": "python3"
  },
  "language_info": {
   "codemirror_mode": {
    "name": "ipython",
    "version": 3
   },
   "file_extension": ".py",
   "mimetype": "text/x-python",
   "name": "python",
   "nbconvert_exporter": "python",
   "pygments_lexer": "ipython3",
   "version": "3.6.4"
  }
 },
 "nbformat": 4,
 "nbformat_minor": 2
}
