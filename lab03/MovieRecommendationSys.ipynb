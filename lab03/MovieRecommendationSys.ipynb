{
 "cells": [
  {
   "cell_type": "markdown",
   "metadata": {},
   "source": [
    "## Workflow \n",
    "##### (especificado no Canvas pelo prof. Leandro)"
   ]
  },
  {
   "cell_type": "markdown",
   "metadata": {},
   "source": [
    "- Baixar os dados do MovieLens 100k (uma base contendo informações sobre filmes assistidos e avaliados por vários usuários)\n",
    "- Rodar o algoritmo de filtragem colaborativa baseada no usuário (basicamente o algoritmo KNN) nesses dados. Para isso você pode usar a biblioteca [surpriselib](http://surpriselib.com/). [Aqui](http://surprise.readthedocs.io/en/stable/knn_inspired.html) você tem os algoritmos baseados em KNN que pode usar.\n",
    "- O que devo entregar?\n",
    "    - Link para código comentado no github.\n",
    "    - Qualidade do modelo em termos de RMSE (veja seção Getting Started na página [http://surpriselib.com/](http://surpriselib.com/))\n",
    "    - Uma demo web onde você passar um usuário, mostra as top-5 recomendaçõe e apresenta os três melhores vizinhos desse usuário)\n"
   ]
  },
  {
   "cell_type": "markdown",
   "metadata": {},
   "source": [
    "## Solução"
   ]
  },
  {
   "cell_type": "markdown",
   "metadata": {},
   "source": [
    "Inicialmente, vou importar as bibliotecas necessárias para implementar o código, entre elas encontra-se a biblioteca **surpriselib** mencionada acima."
   ]
  },
  {
   "cell_type": "code",
   "execution_count": 1,
   "metadata": {},
   "outputs": [],
   "source": [
    "from surprise import Dataset, evaluate\n",
    "from surprise import KNNBasic\n",
    "from surprise.model_selection import cross_validate\n",
    "from collections import defaultdict\n",
    "import os, io"
   ]
  },
  {
   "cell_type": "markdown",
   "metadata": {},
   "source": [
    "#### Constantes"
   ]
  },
  {
   "cell_type": "code",
   "execution_count": 2,
   "metadata": {},
   "outputs": [],
   "source": [
    "QUANTIDADE_DE_RECOMENDACOES = 5\n",
    "QUANTIDADE_DE_VIZINHOS_DO_USUARIO = 3"
   ]
  },
  {
   "cell_type": "markdown",
   "metadata": {},
   "source": [
    "#### Métodos Auxiliares"
   ]
  },
  {
   "cell_type": "code",
   "execution_count": 3,
   "metadata": {},
   "outputs": [],
   "source": [
    "def get_top_recommendations(predictions, N = QUANTIDADE_DE_RECOMENDACOES):\n",
    "    \"\"\" Este método é responsável por retornar as top N recomendações de filmes para todos os usuários baseado\n",
    "    nos cálculos de predições realizados. O retorn deste método é uma lista de IDs.\"\"\"\n",
    "    \n",
    "    top_recs = defaultdict(list)\n",
    "    for uid, iid, true_r, est, _ in predictions:\n",
    "        top_recs[uid].append((iid, est))\n",
    "    \n",
    "    for uid, user_ratings in top_recs.items():\n",
    "        user_ratings.sort(key = lambda x: x[1], reverse = True)\n",
    "        top_recs[uid] = user_ratings[:N]\n",
    "    \n",
    "    return top_recs"
   ]
  },
  {
   "cell_type": "code",
   "execution_count": 4,
   "metadata": {},
   "outputs": [],
   "source": [
    "def convert_item_ids_to_names():\n",
    "    \"\"\"Este método converte um ID do filme para o título do filme. Visto que o método que retorna as top N recomendações\n",
    "    retorna uma lista de IDs de filmes, este método se faz necessário.\"\"\"\n",
    "    file_name = (os.path.expanduser('~') + '/.surprise_data/ml-100k/ml-100k/u.item')\n",
    "    rid_to_name = {}\n",
    "    with io.open(file_name, 'r', encoding='ISO-8859-1') as f:\n",
    "        for line in f:\n",
    "            line = line.split('|')\n",
    "            rid_to_name[line[0]] = line[1]\n",
    "    return rid_to_name"
   ]
  },
  {
   "cell_type": "markdown",
   "metadata": {},
   "source": [
    "#### Workflow de Solução"
   ]
  },
  {
   "cell_type": "code",
   "execution_count": 5,
   "metadata": {},
   "outputs": [
    {
     "name": "stdout",
     "output_type": "stream",
     "text": [
      "Estimating biases using als...\n",
      "Computing the pearson_baseline similarity matrix...\n",
      "Done computing similarity matrix.\n"
     ]
    }
   ],
   "source": [
    "# Load do MovieLens 100K Dataset (https://grouplens.org/datasets/movielens/100k/)\n",
    "data = Dataset.load_builtin(\"ml-100k\")\n",
    "\n",
    "# Cria o training set\n",
    "training_set = data.build_full_trainset()\n",
    "\n",
    "# Visto que trata-se de collaborative filtering baseado em usuário, seto o user_based com True\n",
    "sim_options = {\n",
    "  'name': 'pearson_baseline',\n",
    "  'user_based': True\n",
    "}\n",
    "\n",
    "# Algoritmo utilizado é o k-NN\n",
    "knn = KNNBasic(sim_options=sim_options)\n",
    "\n",
    "# Treina o training set\n",
    "knn.fit(training_set)\n",
    "\n",
    "# Cria o test set\n",
    "test_set = training_set.build_anti_testset()\n",
    "\n",
    "predictions = knn.test(test_set)"
   ]
  },
  {
   "cell_type": "code",
   "execution_count": 6,
   "metadata": {},
   "outputs": [],
   "source": [
    "# 5 top recomendações de todos os usuários\n",
    "top_recommendations = get_top_recommendations(predictions)"
   ]
  },
  {
   "cell_type": "code",
   "execution_count": 7,
   "metadata": {},
   "outputs": [],
   "source": [
    "# converte IDs de filmes em títulos de filmes\n",
    "ids_to_names = convert_item_ids_to_names()"
   ]
  },
  {
   "cell_type": "code",
   "execution_count": 16,
   "metadata": {},
   "outputs": [],
   "source": [
    "# Entrada de ID de usuário via linha de comando\n",
    "# uid = str(input(\"Digite um ID: \"))\n",
    "\n",
    "uid = \"941\""
   ]
  },
  {
   "cell_type": "code",
   "execution_count": 17,
   "metadata": {},
   "outputs": [
    {
     "name": "stdout",
     "output_type": "stream",
     "text": [
      "Prefontaine (1997)\n",
      "Santa with Muscles (1996)\n",
      "Boys, Les (1997)\n",
      "Great Day in Harlem, A (1994)\n",
      "Underground (1995)\n"
     ]
    }
   ],
   "source": [
    "# Imprime os nomes dos filmes recomendados para o usuário acima\n",
    "for mid, rating in top_recommendations[uid]:\n",
    "    print(ids_to_names[mid])"
   ]
  },
  {
   "cell_type": "code",
   "execution_count": 18,
   "metadata": {},
   "outputs": [
    {
     "name": "stdout",
     "output_type": "stream",
     "text": [
      "[285, 825, 97]\n"
     ]
    }
   ],
   "source": [
    "# Apresenta os Top 3 usuarios mais similares ao usuário acima\n",
    "neighbors = knn.get_neighbors(knn.trainset.to_inner_iid(uid), k=QUANTIDADE_DE_VIZINHOS_DO_USUARIO)\n",
    "print(neighbors)"
   ]
  },
  {
   "cell_type": "markdown",
   "metadata": {},
   "source": [
    "Agora vamos fazer um teste... visto que os usuários 285 e 97 são similares ao usuário 941, vamos checar os filmes deles."
   ]
  },
  {
   "cell_type": "code",
   "execution_count": 19,
   "metadata": {},
   "outputs": [
    {
     "name": "stdout",
     "output_type": "stream",
     "text": [
      "Prefontaine (1997)\n",
      "Santa with Muscles (1996)\n",
      "Little City (1998)\n",
      "Entertaining Angels: The Dorothy Day Story (1996)\n",
      "They Made Me a Criminal (1939)\n"
     ]
    }
   ],
   "source": [
    "for mid, rating in top_recommendations[\"285\"]:\n",
    "    print(ids_to_names[mid])"
   ]
  },
  {
   "cell_type": "code",
   "execution_count": 21,
   "metadata": {},
   "outputs": [
    {
     "name": "stdout",
     "output_type": "stream",
     "text": [
      "Whole Wide World, The (1996)\n",
      "Prefontaine (1997)\n",
      "Maya Lin: A Strong Clear Vision (1994)\n",
      "Fear of a Black Hat (1993)\n",
      "Aiqing wansui (1994)\n"
     ]
    }
   ],
   "source": [
    "for mid, rating in top_recommendations[\"97\"]:\n",
    "    print(ids_to_names[mid])"
   ]
  },
  {
   "cell_type": "markdown",
   "metadata": {},
   "source": [
    "Opa, perceba que há filmes em comum entre os 3 usuários, isso é um bom sinal em relação ao algoritmo!"
   ]
  },
  {
   "cell_type": "markdown",
   "metadata": {},
   "source": [
    "##### Agora, vamos verificar a qualidade do modelo em termos de RMSE:"
   ]
  },
  {
   "cell_type": "code",
   "execution_count": null,
   "metadata": {},
   "outputs": [
    {
     "name": "stdout",
     "output_type": "stream",
     "text": [
      "Estimating biases using als...\n",
      "Computing the pearson_baseline similarity matrix...\n",
      "Done computing similarity matrix.\n",
      "Estimating biases using als...\n",
      "Computing the pearson_baseline similarity matrix...\n",
      "Done computing similarity matrix.\n",
      "Estimating biases using als...\n",
      "Computing the pearson_baseline similarity matrix...\n",
      "Done computing similarity matrix.\n"
     ]
    }
   ],
   "source": [
    "cross_validate(knn, data, measures=['RMSE'], cv=5, verbose=False)"
   ]
  },
  {
   "cell_type": "code",
   "execution_count": null,
   "metadata": {},
   "outputs": [],
   "source": []
  }
 ],
 "metadata": {
  "kernelspec": {
   "display_name": "Python 3",
   "language": "python",
   "name": "python3"
  },
  "language_info": {
   "codemirror_mode": {
    "name": "ipython",
    "version": 3
   },
   "file_extension": ".py",
   "mimetype": "text/x-python",
   "name": "python",
   "nbconvert_exporter": "python",
   "pygments_lexer": "ipython3",
   "version": "3.6.4"
  }
 },
 "nbformat": 4,
 "nbformat_minor": 2
}
