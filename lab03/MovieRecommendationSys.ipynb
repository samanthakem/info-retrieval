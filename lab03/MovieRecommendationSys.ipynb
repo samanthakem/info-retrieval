{
 "cells": [
  {
   "cell_type": "markdown",
   "metadata": {},
   "source": [
    "## Workflow \n",
    "##### (especificado no Canvas pelo prof. Leandro)"
   ]
  },
  {
   "cell_type": "markdown",
   "metadata": {},
   "source": [
    "- Baixar os dados do MovieLens 100k (uma base contendo informações sobre filmes assistidos e avaliados por vários usuários)\n",
    "- Rodar o algoritmo de filtragem colaborativa baseada no usuário (basicamente o algoritmo KNN) nesses dados. Para isso você pode usar a biblioteca [surpriselib](http://surpriselib.com/). [Aqui](http://surprise.readthedocs.io/en/stable/knn_inspired.html) você tem os algoritmos baseados em KNN que pode usar.\n",
    "- O que devo entregar?\n",
    "    - Link para código comentado no github.\n",
    "    - Qualidade do modelo em termos de RMSE (veja seção Getting Started na página [http://surpriselib.com/](http://surpriselib.com/))\n",
    "    - Uma demo web onde você passar um usuário, mostra as top-5 recomendaçõe e apresenta os três melhores vizinhos desse usuário)\n"
   ]
  },
  {
   "cell_type": "markdown",
   "metadata": {},
   "source": [
    "## Solução"
   ]
  },
  {
   "cell_type": "code",
   "execution_count": null,
   "metadata": {},
   "outputs": [],
   "source": []
  }
 ],
 "metadata": {
  "kernelspec": {
   "display_name": "Python 3",
   "language": "python",
   "name": "python3"
  },
  "language_info": {
   "codemirror_mode": {
    "name": "ipython",
    "version": 3
   },
   "file_extension": ".py",
   "mimetype": "text/x-python",
   "name": "python",
   "nbconvert_exporter": "python",
   "pygments_lexer": "ipython3",
   "version": "3.6.4"
  }
 },
 "nbformat": 4,
 "nbformat_minor": 2
}
